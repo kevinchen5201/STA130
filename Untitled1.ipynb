{
 "cells": [
  {
   "cell_type": "code",
   "execution_count": 1,
   "id": "b9c600fb",
   "metadata": {},
   "outputs": [
    {
     "data": {
      "text/plain": [
       "0.66493"
      ]
     },
     "execution_count": 1,
     "metadata": {},
     "output_type": "execute_result"
    }
   ],
   "source": [
    "import numpy as np\n",
    "\n",
    "# Initialize variables\n",
    "num_trials = 100000\n",
    "wins_when_switching = 0\n",
    "\n",
    "for _ in range(num_trials):\n",
    "    doors = [1, 2, 3]  # The three doors\n",
    "    winning_door = np.random.choice(doors)  # Randomly choose the winning door\n",
    "    initial_choice = np.random.choice(doors)  # Contestant's initial random choice\n",
    "\n",
    "    # Monty reveals a goat by choosing from doors that are not the initial choice or the winning door\n",
    "    remaining_doors = [door for door in doors if door != initial_choice and door != winning_door]\n",
    "    monty_reveals = np.random.choice(remaining_doors)\n",
    "\n",
    "    # Contestant switches to the remaining unopened door\n",
    "    switch_choice = [door for door in doors if door != initial_choice and door != monty_reveals][0]\n",
    "\n",
    "    # Check if the switch leads to a win\n",
    "    if switch_choice == winning_door:\n",
    "        wins_when_switching += 1\n",
    "\n",
    "# Calculate and print the probability of winning when switching\n",
    "win_probability = wins_when_switching / num_trials\n",
    "win_probability\n"
   ]
  },
  {
   "cell_type": "code",
   "execution_count": 2,
   "id": "552a7ef0",
   "metadata": {},
   "outputs": [],
   "source": [
    "This version of the code is not only easier to read and explain but also more efficient and intuitive. It highlights key concepts of the Monty Hall problem in a clear, straightforward way."
   ]
  },
  {
   "cell_type": "code",
   "execution_count": 3,
   "id": "c232274c",
   "metadata": {},
   "outputs": [
    {
     "name": "stdout",
     "output_type": "stream",
     "text": [
      "Probability of winning when switching: 0.66344\n"
     ]
    }
   ],
   "source": [
    "import numpy as np  # Import numpy for random number generation\n",
    "\n",
    "# Total number of simulations (trials)\n",
    "num_trials = 100000\n",
    "\n",
    "# Variable to track how many times the contestant wins when switching doors\n",
    "wins_when_switching = 0\n",
    "\n",
    "# Loop over the number of trials (simulations of the game)\n",
    "for _ in range(num_trials):\n",
    "    doors = [1, 2, 3]  # List representing the three doors\n",
    "    winning_door = np.random.choice(doors)  # Randomly assign the winning door\n",
    "    initial_choice = np.random.choice(doors)  # Contestant makes an initial random choice\n",
    "\n",
    "    # Monty reveals a goat door that is neither the contestant's choice nor the winning door\n",
    "    remaining_doors = [door for door in doors if door != initial_choice and door != winning_door]\n",
    "    monty_reveals = np.random.choice(remaining_doors)  # Monty shows one of the losing doors (goat)\n",
    "\n",
    "    # The contestant switches to the other remaining unopened door\n",
    "    switch_choice = [door for door in doors if door != initial_choice and door != monty_reveals][0]\n",
    "\n",
    "    # If the contestant wins after switching, increment the win counter\n",
    "    if switch_choice == winning_door:\n",
    "        wins_when_switching += 1\n",
    "\n",
    "# Calculate the probability of winning when switching doors\n",
    "win_probability = wins_when_switching / num_trials\n",
    "\n",
    "# Output the final result, showing the probability of winning by switching doors\n",
    "print(f\"Probability of winning when switching: {win_probability}\")\n"
   ]
  },
  {
   "cell_type": "code",
   "execution_count": 4,
   "id": "6d565ca0",
   "metadata": {},
   "outputs": [
    {
     "ename": "SyntaxError",
     "evalue": "unterminated string literal (detected at line 1) (2527473653.py, line 1)",
     "output_type": "error",
     "traceback": [
      "\u001b[0;36m  Cell \u001b[0;32mIn[4], line 1\u001b[0;36m\u001b[0m\n\u001b[0;31m    The video discusses the application of Markov Chains in generating text. Here's a summary of what it covers:1.Markov Chains Basics 2.Text Generation with Markov Chains\u001b[0m\n\u001b[0m                                                                                 ^\u001b[0m\n\u001b[0;31mSyntaxError\u001b[0m\u001b[0;31m:\u001b[0m unterminated string literal (detected at line 1)\n"
     ]
    }
   ],
   "source": [
    "The video discusses the application of Markov Chains in generating text. Here's a summary of what it covers:1.Markov Chains Basics 2.Text Generation with Markov Chains\n",
    "3.Examples and Applications 4.Limitations"
   ]
  },
  {
   "cell_type": "code",
   "execution_count": 5,
   "id": "83694f44",
   "metadata": {},
   "outputs": [
    {
     "ename": "SyntaxError",
     "evalue": "invalid decimal literal (1911855725.py, line 1)",
     "output_type": "error",
     "traceback": [
      "\u001b[0;36m  Cell \u001b[0;32mIn[5], line 1\u001b[0;36m\u001b[0m\n\u001b[0;31m    https://chatgpt.com/share/66eb8d37-20bc-800d-87e0-aca73930bd70\u001b[0m\n\u001b[0m                               ^\u001b[0m\n\u001b[0;31mSyntaxError\u001b[0m\u001b[0;31m:\u001b[0m invalid decimal literal\n"
     ]
    }
   ],
   "source": [
    "https://chatgpt.com/share/66eb8d37-20bc-800d-87e0-aca73930bd70"
   ]
  },
  {
   "cell_type": "code",
   "execution_count": 6,
   "id": "faf97373",
   "metadata": {},
   "outputs": [
    {
     "ename": "SyntaxError",
     "evalue": "invalid syntax (1082449072.py, line 1)",
     "output_type": "error",
     "traceback": [
      "\u001b[0;36m  Cell \u001b[0;32mIn[6], line 1\u001b[0;36m\u001b[0m\n\u001b[0;31m    The code you provided builds a Markovian chatbot with two key extensions to improve its predictions:\u001b[0m\n\u001b[0m        ^\u001b[0m\n\u001b[0;31mSyntaxError\u001b[0m\u001b[0;31m:\u001b[0m invalid syntax\n"
     ]
    }
   ],
   "source": [
    "The code you provided builds a Markovian chatbot with two key extensions to improve its predictions:\n",
    "\n",
    "### Original Model:\n",
    "The basic structure tracks how often each word appears and what word typically follows it. The idea is to create a transition map between words, where given one word, the chatbot can predict what word is likely to come next based on previous occurrences.\n",
    "\n",
    "### Extension #1:\n",
    "The first extension improves the model by considering *bigrams* (pairs of consecutive words) instead of single words. This allows the chatbot to use a two-word context to predict the next word, making it more accurate because it can consider short phrases rather than just individual words.\n",
    "\n",
    "### Extension #2:\n",
    "The second extension introduces the concept of *characters*. For each character in a dataset (such as dialogue from a play or movie), it tracks their specific word patterns. This way, the chatbot can learn distinct speech patterns for different speakers, allowing it to mimic how each character would continue a sentence.\n",
    "\n",
    "In summary:\n",
    "- The original model looks at one-word transitions.\n",
    "- The first extension uses two-word transitions (bigrams).\n",
    "- The second extension separates the word patterns by character, creating a unique word transition map for each speaker."
   ]
  },
  {
   "cell_type": "code",
   "execution_count": 7,
   "id": "0eb50a3f",
   "metadata": {},
   "outputs": [
    {
     "ename": "SyntaxError",
     "evalue": "unterminated string literal (detected at line 1) (3262247879.py, line 1)",
     "output_type": "error",
     "traceback": [
      "\u001b[0;36m  Cell \u001b[0;32mIn[7], line 1\u001b[0;36m\u001b[0m\n\u001b[0;31m    Here's how the extension to the original Markovian ChatBot code works:\u001b[0m\n\u001b[0m        ^\u001b[0m\n\u001b[0;31mSyntaxError\u001b[0m\u001b[0;31m:\u001b[0m unterminated string literal (detected at line 1)\n"
     ]
    }
   ],
   "source": [
    "Here's how the extension to the original Markovian ChatBot code works:\n",
    "\n",
    "### Original Markovian ChatBot Code\n",
    "The original code builds a simple Markov model where each word’s likelihood of being followed by another word is tracked. It uses a dictionary to keep track of word frequencies and another dictionary to track the frequency of the word that follows each word.\n",
    "\n",
    "### Extension Explanation\n",
    "The extension adds complexity by incorporating character-specific Markov chains and using bigrams (two-word sequences) rather than just single words. Here’s what it does:\n",
    "\n",
    "1. **Character-Specific Markov Chains**: \n",
    "   - Instead of just using word frequencies, the code now differentiates between different characters in the text. This is achieved by creating a `characters` Counter that helps identify and label parts of the text according to which character is speaking.\n",
    "   \n",
    "2. **Bigram Tracking**:\n",
    "   - Rather than just tracking the probability of a single word following another, the extension tracks the probability of a word following a bigram (a pair of consecutive words). This is done by:\n",
    "     - Creating `word_used2C` and `next_word2C`, which are nested dictionaries tracking bigrams and the next words following those bigrams.\n",
    "     - For each word in the text, the code updates the count for the bigram (a combination of two consecutive words) and then updates the count for the next word that follows that bigram, all while accounting for which character is speaking.\n",
    "\n",
    "### How It Works\n",
    "- **Character Detection**: The `character` variable helps to segment text according to which character is speaking.\n",
    "- **Bigram Frequency Tracking**: `word_used2C` tracks how often each bigram appears for each character.\n",
    "- **Next Word Prediction**: `next_word2C` tracks which words follow each bigram and how often, allowing the chatbot to generate text based on the context of the preceding two words rather than just one.\n",
    "\n",
    "In essence, this extension builds on the original idea by adding layers of complexity to handle multiple characters and by using more sophisticated word sequences (bigrams) to improve the context and coherence of the generated text.\n",
    "\n",
    "If you have any specific questions or need further details on how something works, feel free to ask!"
   ]
  },
  {
   "cell_type": "code",
   "execution_count": 8,
   "id": "b340238a",
   "metadata": {},
   "outputs": [
    {
     "ename": "SyntaxError",
     "evalue": "invalid syntax (4203449784.py, line 1)",
     "output_type": "error",
     "traceback": [
      "\u001b[0;36m  Cell \u001b[0;32mIn[8], line 1\u001b[0;36m\u001b[0m\n\u001b[0;31m    1. it took anywhere from a few minutes to ten minutes per quiz\u001b[0m\n\u001b[0m       ^\u001b[0m\n\u001b[0;31mSyntaxError\u001b[0m\u001b[0;31m:\u001b[0m invalid syntax\n"
     ]
    }
   ],
   "source": [
    "1. it took anywhere from a few minutes to ten minutes per quiz\n",
    "2. I found it helpful and enabled me to understand better.\n",
    "3. i found using the chatbot to be helpful, and overall it was a very good tool to use."
   ]
  },
  {
   "cell_type": "code",
   "execution_count": 9,
   "id": "0c6b4c71",
   "metadata": {},
   "outputs": [
    {
     "ename": "SyntaxError",
     "evalue": "invalid syntax (3114881876.py, line 1)",
     "output_type": "error",
     "traceback": [
      "\u001b[0;36m  Cell \u001b[0;32mIn[9], line 1\u001b[0;36m\u001b[0m\n\u001b[0;31m    7. I have thought that chatbot was a great tool from the very beginning, and that idea remains unchanged to this day. I use chatbot in class to help me learn new things. I also use it after class to help me understand problems and complete assignments!\u001b[0m\n\u001b[0m       ^\u001b[0m\n\u001b[0;31mSyntaxError\u001b[0m\u001b[0;31m:\u001b[0m invalid syntax\n"
     ]
    }
   ],
   "source": [
    "7. I have thought that chatbot was a great tool from the very beginning, and that idea remains unchanged to this day. I use chatbot in class to help me learn new things. I also use it after class to help me understand problems and complete assignments!\n",
    "AI tools have proven useful in providing help and explanations to speed up the learning process."
   ]
  },
  {
   "cell_type": "code",
   "execution_count": 10,
   "id": "1bbd9be7",
   "metadata": {},
   "outputs": [
    {
     "ename": "SyntaxError",
     "evalue": "invalid character '’' (U+2019) (167644328.py, line 11)",
     "output_type": "error",
     "traceback": [
      "\u001b[0;36m  Cell \u001b[0;32mIn[10], line 11\u001b[0;36m\u001b[0m\n\u001b[0;31m    Prompt: Ask the ChatBot if it’s possible to become a statistician or data scientist without coding or data analysis experience. Transition the conversation to explore the skills valuable for a desired career path.\u001b[0m\n\u001b[0m                                 ^\u001b[0m\n\u001b[0;31mSyntaxError\u001b[0m\u001b[0;31m:\u001b[0m invalid character '’' (U+2019)\n"
     ]
    }
   ],
   "source": [
    "1. ChatBot Session on Skill Relevance\n",
    "Prompt: Start a new session and discuss the importance of learning, adaptability, communication, coding, and statistics/data analysis in the modern world, focusing on career opportunities in the data science industry.\n",
    "\n",
    "Example Discussion Points:\n",
    "\n",
    "Learning and Adaptability: Emphasize the need for continuous learning due to the fast-evolving nature of technology and data science.\n",
    "Communication: Highlight how effective communication is crucial for presenting data insights and collaborating with teams.\n",
    "Coding: Discuss the role of programming in implementing data analysis methods and building data-driven solutions.\n",
    "Statistics and Data Analysis: Point out their importance in deriving meaningful insights from data and making informed decisions.\n",
    "2. Career Exploration Discussion\n",
    "Prompt: Ask the ChatBot if it’s possible to become a statistician or data scientist without coding or data analysis experience. Transition the conversation to explore the skills valuable for a desired career path.\n",
    "\n",
    "Example Discussion Points:\n",
    "\n",
    "Skills Required: Inquire about essential skills for data scientists or statisticians, such as statistical techniques, data visualization, machine learning, and domain expertise.\n",
    "Alternative Careers: Explore related roles that might require less emphasis on coding but still utilize statistical knowledge and analysis.\n",
    "3. Summary of the ChatBot Session\n",
    "Action: Request a summary of the ChatBot session and include links to chat log histories if available. Paste this summary into your homework notebook.\n",
    "\n",
    "Example Summary: \"Today’s ChatBot session covered the relevance of learning, adaptability, communication, coding, and data analysis in modern careers, especially in the data science industry. The discussion highlighted the importance of these skills for career success and explored the possibility of pursuing a career in statistics or data science without coding experience. Key skills identified for these careers include statistical analysis, data visualization, and machine learning.\"\n",
    "\n",
    "4. Reflection on Career Potential\n",
    "Prompt: Paraphrase the assessments and conclusions from the ChatBot discussion into a reflection on your current thoughts regarding potential careers and how to build the necessary skills.\n",
    "\n",
    "Example Reflection: \"From today’s discussion, I understand that pursuing a career in data science or statistics requires a solid foundation in coding, data analysis, and statistical techniques. Communication skills are also critical for effectively conveying insights. To prepare for this career path, I need to focus on developing my programming skills, mastering data analysis methods, and improving my ability to present data findings. Building these competencies will be crucial for my future career.\"\n",
    "\n",
    "5. Evaluating the ChatBot Interaction\n",
    "Prompt: Reflect on the helpfulness and limitations of the ChatBot conversation. Consider next steps if the information provided was general and lacked depth.\n",
    "\n",
    "Example Thoughts: \"The ChatBot provided a helpful overview of the essential skills for careers in data science and statistics, but the advice was somewhat broad. For a more in-depth understanding, I would consider consulting industry experts, taking specialized courses, or seeking mentorship from professionals in the field. These steps would help gain a deeper insight into the nuances of the industry and refine my career path.\"\n",
    "\n",
    "Feel free to adapt these prompts and reflections to fit your specific needs and context!\n",
    "**Summary:**\n",
    "\n",
    "1. **IMPORTANCE OF SKILLS**: In the modern data science industry, the ability to learn, adapt, communicate, and program and data analysis skills are critical. Continuous learning and adapting to technological changes are critical for career advancement, communication skills help to effectively present data insights, and programming and data analysis are fundamental to realizing data-driven solutions.\n",
    "\n",
    "2. **CAREER EXPLORATION**: While a statistician or data scientist typically requires programming and data analytics experience, there are still related positions that may require less of these skills. Key skills include statistical analysis, data visualization, and machine learning.\n",
    "\n",
    "3. **Reflection and Career Planning**: In order to pursue a career path in data science or statistics, there is a need to focus on developing programming skills, mastering data analytics, and improving data presentation skills. Clarifying these skills can help prepare for a future career.\n",
    "\n",
    "4. **Assessment by ChatBot Interactive**: ChatBot provides a useful overview of skills, but the information is more generalized. Further steps include consulting with an industry expert, taking a specialized course, or seeking career guidance to gain more in-depth industry insight and career planning.\n",
    "\n",
    "5.I think the ai is currently answering too specialized, resulting in all the rote hard knowledge, which makes it hard to keep people reading."
   ]
  },
  {
   "cell_type": "code",
   "execution_count": 11,
   "id": "72804b4e",
   "metadata": {},
   "outputs": [
    {
     "ename": "NameError",
     "evalue": "name 'Yes' is not defined",
     "output_type": "error",
     "traceback": [
      "\u001b[0;31m---------------------------------------------------------------------------\u001b[0m",
      "\u001b[0;31mNameError\u001b[0m                                 Traceback (most recent call last)",
      "Cell \u001b[0;32mIn[11], line 1\u001b[0m\n\u001b[0;32m----> 1\u001b[0m \u001b[43mYes\u001b[49m\n",
      "\u001b[0;31mNameError\u001b[0m: name 'Yes' is not defined"
     ]
    }
   ],
   "source": [
    "Yes"
   ]
  },
  {
   "cell_type": "code",
   "execution_count": null,
   "id": "aeb7a59c",
   "metadata": {},
   "outputs": [],
   "source": []
  }
 ],
 "metadata": {
  "kernelspec": {
   "display_name": "Python 3 (ipykernel)",
   "language": "python",
   "name": "python3"
  },
  "language_info": {
   "codemirror_mode": {
    "name": "ipython",
    "version": 3
   },
   "file_extension": ".py",
   "mimetype": "text/x-python",
   "name": "python",
   "nbconvert_exporter": "python",
   "pygments_lexer": "ipython3",
   "version": "3.11.6"
  }
 },
 "nbformat": 4,
 "nbformat_minor": 5
}
