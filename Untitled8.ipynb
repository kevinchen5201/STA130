{
 "cells": [
  {
   "cell_type": "code",
   "execution_count": 2,
   "id": "c380459f",
   "metadata": {},
   "outputs": [
    {
     "ename": "SyntaxError",
     "evalue": "unterminated string literal (detected at line 2) (1461533788.py, line 2)",
     "output_type": "error",
     "traceback": [
      "\u001b[0;36m  Cell \u001b[0;32mIn[2], line 2\u001b[0;36m\u001b[0m\n\u001b[0;31m    The standard error of the mean (SEM), on the other hand, measures the variability of the sample means if we were to repeatedly take samples from the population. It's essentially the standard deviation of the sampling distribution of the sample mean. The SEM tells us how precisely the sample mean estimates the true population mean.\u001b[0m\n\u001b[0m                                                                                                                                                                       ^\u001b[0m\n\u001b[0;31mSyntaxError\u001b[0m\u001b[0;31m:\u001b[0m unterminated string literal (detected at line 2)\n"
     ]
    }
   ],
   "source": [
    "The standard deviation of the original data measures the spread or variability of individual data points in a sample. It tells us how much the data points vary around the sample mean (x-bar)\n",
    "The standard error of the mean (SEM), on the other hand, measures the variability of the sample means if we were to repeatedly take samples from the population. It's essentially the standard deviation of the sampling distribution of the sample mean. The SEM tells us how precisely the sample mean estimates the true population mean.\n",
    "\n",
    "In summary:\n",
    "\n",
    "Standard deviation reflects how spread out individual data points are in the original sample.\n",
    "Standard error of the mean reflects how much the sample mean would vary if we repeated the sampling process, and it decreases as the sample size increases, indicating a more accurate estimate of the population mean.\n",
    "In short:\n",
    "\n",
    "Standard deviation: variability in the original data.\n",
    "Standard error of the mean: variability in the sample mean estimates across repeated samples.\n",
    "    https://chatgpt.com/share/66ff37c0-08fc-800d-a858-d3c2878d7cc3\n"
   ]
  },
  {
   "cell_type": "code",
   "execution_count": 3,
   "id": "77741ddb",
   "metadata": {},
   "outputs": [
    {
     "ename": "SyntaxError",
     "evalue": "invalid character '±' (U+00B1) (2992485093.py, line 6)",
     "output_type": "error",
     "traceback": [
      "\u001b[0;36m  Cell \u001b[0;32mIn[3], line 6\u001b[0;36m\u001b[0m\n\u001b[0;31m    CI= Sample Mean ±(1.96 x SEM)\u001b[0m\n\u001b[0m                    ^\u001b[0m\n\u001b[0;31mSyntaxError\u001b[0m\u001b[0;31m:\u001b[0m invalid character '±' (U+00B1)\n"
     ]
    }
   ],
   "source": [
    "To create a 95% confidence interval using the standard error of the mean (SEM), followthese steps:\n",
    "1. Calculate the sample mean: This is the mean of your sample data.\n",
    "2. Multiply the SEM by 1.96: For a normal distribution, approximately 95% of the data fallswithin 1.96 standard deviations of the mean.\n",
    "3. Add and subtract this value from the sample mean: This gives you the upper andlower bounds of the confidence interval.\n",
    "The formula is:\n",
    "CI= Sample Mean ±(1.96 x SEM)\n",
    "This interval will \"cover\" 95% of the bootstrapped sample means, meaning you're 95%confident that the true population mean lies within this range.\n",
    "https://chatgpt.com/share/66ff37c0-08fc-800d-a858-d3c2878d7cc3\n"
   ]
  },
  {
   "cell_type": "code",
   "execution_count": 4,
   "id": "8a62ae26",
   "metadata": {},
   "outputs": [
    {
     "ename": "SyntaxError",
     "evalue": "invalid decimal literal (3219226564.py, line 5)",
     "output_type": "error",
     "traceback": [
      "\u001b[0;36m  Cell \u001b[0;32mIn[4], line 5\u001b[0;36m\u001b[0m\n\u001b[0;31m    Find the 2.5th and 97.5th percentiles: These percentiles correspond to the lower and upper bounds of the 95% confidence interval.\u001b[0m\n\u001b[0m               ^\u001b[0m\n\u001b[0;31mSyntaxError\u001b[0m\u001b[0;31m:\u001b[0m invalid decimal literal\n"
     ]
    }
   ],
   "source": [
    "To create a 95% bootstrapped confidence interval directly from the bootstrapped means, follow these steps:\n",
    "\n",
    "Generate bootstrapped sample means: Resample your data many times (e.g., 1,000 times), calculate the mean for each resample, and store those means.\n",
    "Sort the bootstrapped means: Arrange the bootstrapped means in ascending order.\n",
    "Find the 2.5th and 97.5th percentiles: These percentiles correspond to the lower and upper bounds of the 95% confidence interval.\n",
    "This method gives you a non-parametric confidence interval based on the empirical distribution of the bootstrapped means, without relying on the standard error or assuming a normal distribution.\n",
    "https://chatgpt.com/share/66ff37c0-08fc-800d-a858-d3c2878d7cc3"
   ]
  },
  {
   "cell_type": "code",
   "execution_count": 5,
   "id": "697c310f",
   "metadata": {},
   "outputs": [
    {
     "ename": "SyntaxError",
     "evalue": "invalid decimal literal (403267533.py, line 40)",
     "output_type": "error",
     "traceback": [
      "\u001b[0;36m  Cell \u001b[0;32mIn[5], line 40\u001b[0;36m\u001b[0m\n\u001b[0;31m    https://chatgpt.com/share/66ff37c0-08fc-800d-a858-d3c2878d7cc3\u001b[0m\n\u001b[0m                               ^\u001b[0m\n\u001b[0;31mSyntaxError\u001b[0m\u001b[0;31m:\u001b[0m invalid decimal literal\n"
     ]
    }
   ],
   "source": [
    "import numpy as np\n",
    "\n",
    "# Example sample data\n",
    "sample = [12, 15, 14, 10, 18, 20, 15, 17, 19, 13]\n",
    "\n",
    "# Function to generate bootstrap samples and calculate a statistic (mean by default)\n",
    "def bootstrap_ci(sample, stat_function=np.mean, num_resamples=1000, ci=95):\n",
    "    n = len(sample)\n",
    "    bootstrap_stats = []\n",
    "\n",
    "    # Generate bootstrap resamples and calculate the statistic for each resample\n",
    "    for _ in range(num_resamples):\n",
    "        resample = np.random.choice(sample, size=n, replace=True)\n",
    "        bootstrap_stats.append(stat_function(resample))\n",
    "\n",
    "    # Calculate the desired percentiles for the confidence interval\n",
    "    lower_bound = (100 - ci) / 2\n",
    "    upper_bound = 100 - lower_bound\n",
    "    ci_lower = np.percentile(bootstrap_stats, lower_bound)\n",
    "    ci_upper = np.percentile(bootstrap_stats, upper_bound)\n",
    "\n",
    "    return ci_lower, ci_upper\n",
    "\n",
    "# Produce a 95% confidence interval for the population mean\n",
    "ci_mean = bootstrap_ci(sample)\n",
    "print(f\"95% Bootstrap Confidence Interval for the Mean: {ci_mean}\")\n",
    "\n",
    "# To produce a 95% confidence interval for the population median instead of the mean,\n",
    "# simply pass `np.median` as the statistic function:\n",
    "ci_median = bootstrap_ci(sample, stat_function=np.median)\n",
    "print(f\"95% Bootstrap Confidence Interval for the Median: {ci_median}\")\n",
    "\n",
    "# You can replace np.mean or np.median with any other statistic, such as np.std for standard deviation,\n",
    "# np.percentile for a specific percentile, or a custom function for other statistics.\n",
    "Key steps:\n",
    "bootstrap_ci() function: Resamples the data and calculates the desired statistic.\n",
    "Default statistic: The mean is used by default (np.mean), but you can change it to any other function like np.median.\n",
    "Changing to another statistic: To calculate a 95% bootstrap confidence interval for the median, pass np.median to the stat_function argument.\n",
    "This approach can be applied to various statistics by modifying the function passed to stat_function, such as standard deviation (np.std), a specific percentile (np.percentile), or even a custom function depending on what population parameter you want to estimate.\n",
    "https://chatgpt.com/share/66ff37c0-08fc-800d-a858-d3c2878d7cc3"
   ]
  },
  {
   "cell_type": "code",
   "execution_count": 6,
   "id": "e8e42da7",
   "metadata": {},
   "outputs": [
    {
     "ename": "SyntaxError",
     "evalue": "unterminated string literal (detected at line 1) (3289256073.py, line 1)",
     "output_type": "error",
     "traceback": [
      "\u001b[0;36m  Cell \u001b[0;32mIn[6], line 1\u001b[0;36m\u001b[0m\n\u001b[0;31m    We need to distinguish between the population parameter and the sample statistic because the population parameter is the true, unknown value we're trying to estimate (e.g., population mean), while the sample statistic is the value we calculate from our sample data (e.g., sample mean).\u001b[0m\n\u001b[0m                                                                                                                                                   ^\u001b[0m\n\u001b[0;31mSyntaxError\u001b[0m\u001b[0;31m:\u001b[0m unterminated string literal (detected at line 1)\n"
     ]
    }
   ],
   "source": [
    "We need to distinguish between the population parameter and the sample statistic because the population parameter is the true, unknown value we're trying to estimate (e.g., population mean), while the sample statistic is the value we calculate from our sample data (e.g., sample mean).\n",
    "\n",
    "A confidence interval uses the sample statistic to create a range of values that likely contains the true population parameter. Since we don't know the population parameter, we rely on the sample statistic and resampling methods (like bootstrapping) to estimate the uncertainty in our sample's estimate of the population parameter. This distinction is crucial because confidence intervals quantify the uncertainty in estimating a parameter based on limited sample data."
   ]
  },
  {
   "cell_type": "code",
   "execution_count": 7,
   "id": "9055a884",
   "metadata": {},
   "outputs": [
    {
     "ename": "SyntaxError",
     "evalue": "invalid decimal literal (1840512626.py, line 1)",
     "output_type": "error",
     "traceback": [
      "\u001b[0;36m  Cell \u001b[0;32mIn[7], line 1\u001b[0;36m\u001b[0m\n\u001b[0;31m    1.Bootstrapping is like a clever trick we use to estimate things, especially when we don’t have access to the full population data. Let’s say you’ve got a sample of data, but you want to figure out how confident you can be in statistics like the mean or median of the population. Instead of collecting more data (which isn’t always possible), you \"resample\" from your original data with replacement. That means you randomly pick data points from your sample over and over again, even allowing the same data point to be picked multiple times in one resample. Each time you do this, you calculate whatever statistic you’re interested in, like the mean, and after repeating this process many times, you can build a whole distribution of results. This distribution helps you understand the variability of your estimate.\u001b[0m\n\u001b[0m     ^\u001b[0m\n\u001b[0;31mSyntaxError\u001b[0m\u001b[0;31m:\u001b[0m invalid decimal literal\n"
     ]
    }
   ],
   "source": [
    "1.Bootstrapping is like a clever trick we use to estimate things, especially when we don’t have access to the full population data. Let’s say you’ve got a sample of data, but you want to figure out how confident you can be in statistics like the mean or median of the population. Instead of collecting more data (which isn’t always possible), you \"resample\" from your original data with replacement. That means you randomly pick data points from your sample over and over again, even allowing the same data point to be picked multiple times in one resample. Each time you do this, you calculate whatever statistic you’re interested in, like the mean, and after repeating this process many times, you can build a whole distribution of results. This distribution helps you understand the variability of your estimate.\n",
    "2.The main purpose of bootstrapping is to estimate how uncertain your sample-based estimate is of a population parameter (like the population mean or median). Since you usually can’t get data for an entire population, you use the sample you have, and bootstrapping helps you simulate what the results might look like if you could take lots of samples. This method helps create confidence intervals or measure the reliability of your estimates without needing complicated formulas or assumptions about the population.\n",
    "3.\n",
    "Take your sample data and generate a lot of new \"resamples\" by randomly selecting from your sample with replacement.\n",
    "For each of these resamples, calculate the average (mean) to create a distribution of bootstrapped means.\n",
    "Once you have this distribution, you can look at where your hypothesized guess (like 50) falls. If your guess is inside a 95% confidence interval created from the bootstrapped means, that’s a sign that your guess is plausible, meaning it’s consistent with what your sample suggests. But if your guess falls outside of that interval, it might mean your guess isn’t a good fit for what the sample data is telling you about the population.\n",
    "Basically, bootstrapping helps you see if your guess fits within the range of what seems likely based on your sample."
   ]
  },
  {
   "cell_type": "code",
   "execution_count": 8,
   "id": "41fe38eb",
   "metadata": {},
   "outputs": [
    {
     "ename": "SyntaxError",
     "evalue": "invalid character '’' (U+2019) (892940195.py, line 6)",
     "output_type": "error",
     "traceback": [
      "\u001b[0;36m  Cell \u001b[0;32mIn[8], line 6\u001b[0;36m\u001b[0m\n\u001b[0;31m    Therefore, we can’t rule out the possibility of no effect. In other words, we don’t have enough confidence to say that the true effect is different from zero, so we \"fail to reject the null hypothesis.\" Statistically speaking, we can’t prove the drug is effective because the data supports the possibility that the drug has no effect.\u001b[0m\n\u001b[0m                     ^\u001b[0m\n\u001b[0;31mSyntaxError\u001b[0m\u001b[0;31m:\u001b[0m invalid character '’' (U+2019)\n"
     ]
    }
   ],
   "source": [
    "In hypothesis testing, the null hypothesis usually represents the assumption of \"no effect\" or \"no difference.\" For example, in a drug experiment, the null hypothesis might be that \"the average effect of the drug on patients is zero,\" meaning the drug has no effect.\n",
    "\n",
    "Why can’t we reject the null hypothesis when the confidence interval includes zero?\n",
    "When we construct a confidence interval (e.g., a 95% confidence interval), we are estimating the possible range of a parameter. In the case of a drug experiment, this parameter might be the average effect of the drug on health. The interval gives us a range of estimates for this effect. If the confidence interval includes zero, it means that \"no effect\" (i.e., zero effect) is a possible outcome. In other words, based on the sample data, the drug might indeed have no significant effect. Even if the sample mean is not zero, as long as zero is within the confidence interval, zero remains a possible true value.\n",
    "\n",
    "Therefore, we can’t rule out the possibility of no effect. In other words, we don’t have enough confidence to say that the true effect is different from zero, so we \"fail to reject the null hypothesis.\" Statistically speaking, we can’t prove the drug is effective because the data supports the possibility that the drug has no effect.\n",
    "\n",
    "When would we reject the null hypothesis?\n",
    "On the other hand, if the confidence interval does not include zero, it means that zero effect is no longer a possible value. At this point, we can be more confident that the true effect is different from zero. That is, the drug likely does have an effect, because the data suggests that its effect is significantly different from zero.\n",
    "\n",
    "So, to summarize:\n",
    "\n",
    "If the confidence interval includes zero: Zero effect is possible, and we don’t have enough evidence to prove the drug is effective, so we fail to reject the null hypothesis.\n",
    "If the confidence interval does not include zero: Zero effect is not a possible outcome, and we have enough evidence to prove the drug is effective, so we reject the null hypothesis.\n",
    "Why can't we reject the null hypothesis even if the sample mean isn’t zero?\n",
    "Even if the sample mean (e.g., the average improvement of patients in the drug group) isn’t zero, that doesn’t automatically mean the drug is effective. The confidence interval takes into account the variability in the data, or uncertainty. If the confidence interval is wide and includes zero, this indicates that our data is not strong enough to rule out the possibility that the drug has no effect. Only when the variability is smaller and the confidence interval completely excludes zero can we confidently say that the drug is working and reject the null hypothesis."
   ]
  },
  {
   "cell_type": "code",
   "execution_count": 9,
   "id": "fb3c6b40",
   "metadata": {},
   "outputs": [
    {
     "ename": "SyntaxError",
     "evalue": "unterminated string literal (detected at line 2) (875594580.py, line 2)",
     "output_type": "error",
     "traceback": [
      "\u001b[0;36m  Cell \u001b[0;32mIn[9], line 2\u001b[0;36m\u001b[0m\n\u001b[0;31m    To quantify whether the vaccine had a significant effect, we'll use bootstrapping to generate a confidence interval for the mean difference in health scores before and after the vaccine.\u001b[0m\n\u001b[0m                                                                ^\u001b[0m\n\u001b[0;31mSyntaxError\u001b[0m\u001b[0;31m:\u001b[0m unterminated string literal (detected at line 2)\n"
     ]
    }
   ],
   "source": [
    "Quantitative Analysis:\n",
    "To quantify whether the vaccine had a significant effect, we'll use bootstrapping to generate a confidence interval for the mean difference in health scores before and after the vaccine.\n",
    "\n",
    "Methodology:\n",
    "Bootstrapping: This method resamples the original data with replacement to simulate the sampling distribution of the mean difference in health scores.\n",
    "Null Hypothesis: The mean difference between the final and initial health scores is zero (no effect).\n",
    "Alternative Hypothesis: The mean difference is not zero, suggesting that the vaccine has an effect.\n",
    "I'll now proceed with the bootstrapping method. ​​\n",
    "\n",
    "The observed mean difference in health scores between the final and initial measurements is 3.3. After conducting 1,000 bootstrap resamples, the 95% confidence interval for the mean difference is [0.7, 5.5].\n",
    "\n",
    "Findings and Discussion:\n",
    "The observed mean difference of 3.3 suggests that, on average, patients' health improved after taking the vaccine.\n",
    "The 95% confidence interval does not include zero, which suggests that the improvement in health is statistically significant.\n",
    "Since the confidence interval excludes zero, we have evidence to reject the null hypothesis of \"no effect.\" This means that the data supports the conclusion that the vaccine has a positive effect on health.\n",
    "Conclusion:\n",
    "Based on the bootstrapping analysis, we can conclude that AliTech's vaccine has a statistically significant positive effect on the health of patients.\n",
    "\n",
    "If you need further assistance or additional steps for the report, feel free to let me know! ​"
   ]
  },
  {
   "cell_type": "markdown",
   "id": "dab62bb9",
   "metadata": {},
   "source": [
    "9.yes"
   ]
  }
 ],
 "metadata": {
  "kernelspec": {
   "display_name": "Python 3 (ipykernel)",
   "language": "python",
   "name": "python3"
  },
  "language_info": {
   "codemirror_mode": {
    "name": "ipython",
    "version": 3
   },
   "file_extension": ".py",
   "mimetype": "text/x-python",
   "name": "python",
   "nbconvert_exporter": "python",
   "pygments_lexer": "ipython3",
   "version": "3.11.6"
  }
 },
 "nbformat": 4,
 "nbformat_minor": 5
}
