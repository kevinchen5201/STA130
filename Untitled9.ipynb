{
 "cells": [
  {
   "cell_type": "markdown",
   "id": "850156e7",
   "metadata": {},
   "source": [
    "TOPIC ONE: Effect of Investor Sentiment on Stock Trading Decisions\n",
    "1.\tResearch Question: Does investor sentiment influence their stock buying and selling behaviors? Are investors more inclined to buy or sell when sentiment is high or low?\n",
    "\n",
    "2.\tVariables:\n",
    "   Independent Variable: Investor sentiment, assessed through:\n",
    "Face-to-face communication\n",
    "Observing behaviors like extended monitoring of stock fluctuations\n",
    "Dependent Variable: Stock trading behavior:\n",
    "\tNumber of purchases\n",
    "\tNumber of sales\n",
    "\n",
    "Methodology:\n",
    "Data Collection: Survey nearby investors to gauge mood changes and record their trading behaviors over a certain period post-survey.\n",
    "Visualization:\n",
    "Bar Chart: Compare average buys and sells in different sentiment states.\n",
    "\n",
    "3.\tAnalysis Plan:\n",
    "Method: Assess if significant differences exist in average buys and sells between optimistic and pessimistic groups, or if individual emotions during market fluctuations affect trading decisions.\n",
    "\n",
    "4.\tHypotheses and Discussion:\n",
    "Hypotheses:\n",
    "\tOptimistic investors are more inclined to buy stocks.\n",
    "\tPessimistic investors are more inclined to sell stocks.\n",
    "Implications:\n",
    "\tIf Supported: Emotions significantly affect trading; emotion management is crucial to avoid irrational decisions.\n",
    "\tIf Not Supported: Investors may be highly rational, or other factors like market conditions or experience may play a role.\n"
   ]
  },
  {
   "cell_type": "markdown",
   "id": "d6e8552d",
   "metadata": {},
   "source": [
    "TOPIC TWO:Analysis: Effect of Starbucks Student Discounts on Sales at Roberts Library\n",
    "\n",
    "1.Research Question: Does offering student discounts at Roberts Library Starbucks increase sales?\n",
    "\n",
    "2.Variables:\n",
    "\n",
    "Independent Variable: Student discounts (offered or not; discount percentage)\n",
    "Dependent Variable: Sales metrics (daily sales in CAD, items sold, customer count)\n",
    "Methodology:\n",
    "\n",
    "Data Collection: Obtain sales data one week before and after discounts from management\n",
    "Visualization: Use charts to compare sales trends pre- and post-discount\n",
    "\n",
    "3.Analysis Plan:\n",
    "Average Comparison: Calculate and compare average daily sales before and after discounts\n",
    "Growth Rate Calculation:\n",
    "Growth Rate (%) = [(After Discount Average - Before Discount Average) / Before Discount Average] × 100%\n",
    "Positive growth indicates increased sales\n",
    "Feedback:\n",
    "Employee Observations: Note changes in customer flow\n",
    "Student Survey: Assess perceptions of discounts\n",
    "Hypothesis and Discussion:\n",
    "\n",
    "4.Hypothesis: Student discounts will increase Starbucks sales\n",
    "Expected Results:\n",
    "If sales increase: Hypothesis supported; discounts boost sales\n",
    "If sales do not increase: Hypothesis not supported; may need alternative strategies due to factors like unattractive discounts or low price sensitivity among students"
   ]
  },
  {
   "cell_type": "markdown",
   "id": "0630faa4",
   "metadata": {},
   "source": [
    "TOPIC THREE:The Impact of Extracurricular Part-Time Jobs on Academic Achievement at the University of Toronto\n",
    "\n",
    "1.Research Question: Do extracurricular part-time jobs affect the academic performance (e.g., GPA) of students at the University of Toronto?\n",
    "\n",
    "2.Variables:\n",
    "\n",
    "Independent Variable: Employment status\n",
    "Categories: With part-time job / Without part-time job\n",
    "Dependent Variable: Academic achievement measured by GPA\n",
    "Methodology:\n",
    "\n",
    "Data Collection: Use a questionnaire to gather information on students' part-time job status and their GPA.\n",
    "Visualization: Bar graph comparing average GPA of students with and without part-time jobs.\n",
    "3.Analysis Plan:\n",
    "Method: Compare the average GPA of students with and without part-time jobs to determine if there's a significant difference.\n",
    "4.Hypotheses and Discussion:\n",
    "Hypothesis: Students with part-time jobs may have lower GPAs because work may reduce study time.\n",
    "Expected Results:\n",
    "If Supported: Suggests students should balance work and study; the university could provide additional support.\n",
    "If Not Supported: Indicates part-time jobs may not hinder academics and might enhance time management skills."
   ]
  },
  {
   "cell_type": "markdown",
   "id": "546e833e",
   "metadata": {},
   "source": [
    "project group team\n",
    "name: Runyu Tian(1011315435), Calum Zhang(1011222696),Junshang Chen(1010852506)"
   ]
  },
  {
   "cell_type": "code",
   "execution_count": null,
   "id": "aa15a415",
   "metadata": {},
   "outputs": [],
   "source": []
  }
 ],
 "metadata": {
  "kernelspec": {
   "display_name": "Python 3 (ipykernel)",
   "language": "python",
   "name": "python3"
  },
  "language_info": {
   "codemirror_mode": {
    "name": "ipython",
    "version": 3
   },
   "file_extension": ".py",
   "mimetype": "text/x-python",
   "name": "python",
   "nbconvert_exporter": "python",
   "pygments_lexer": "ipython3",
   "version": "3.11.6"
  }
 },
 "nbformat": 4,
 "nbformat_minor": 5
}
